{
 "cells": [
  {
   "cell_type": "markdown",
   "id": "09255a1d",
   "metadata": {
    "papermill": {
     "duration": 0.005626,
     "end_time": "2024-02-05T09:40:25.571230",
     "exception": false,
     "start_time": "2024-02-05T09:40:25.565604",
     "status": "completed"
    },
    "tags": []
   },
   "source": [
    "**Import needed libraries**"
   ]
  },
  {
   "cell_type": "code",
   "execution_count": 1,
   "id": "f66ed1bc",
   "metadata": {
    "collapsed": true,
    "execution": {
     "iopub.execute_input": "2024-02-05T09:40:25.583697Z",
     "iopub.status.busy": "2024-02-05T09:40:25.582947Z",
     "iopub.status.idle": "2024-02-05T09:40:39.227946Z",
     "shell.execute_reply": "2024-02-05T09:40:39.226961Z"
    },
    "jupyter": {
     "outputs_hidden": true
    },
    "papermill": {
     "duration": 13.653411,
     "end_time": "2024-02-05T09:40:39.229963",
     "exception": false,
     "start_time": "2024-02-05T09:40:25.576552",
     "status": "completed"
    },
    "tags": []
   },
   "outputs": [
    {
     "name": "stderr",
     "output_type": "stream",
     "text": [
      "2024-02-05 09:40:28.940279: E external/local_xla/xla/stream_executor/cuda/cuda_dnn.cc:9261] Unable to register cuDNN factory: Attempting to register factory for plugin cuDNN when one has already been registered\n",
      "2024-02-05 09:40:28.940385: E external/local_xla/xla/stream_executor/cuda/cuda_fft.cc:607] Unable to register cuFFT factory: Attempting to register factory for plugin cuFFT when one has already been registered\n",
      "2024-02-05 09:40:29.062056: E external/local_xla/xla/stream_executor/cuda/cuda_blas.cc:1515] Unable to register cuBLAS factory: Attempting to register factory for plugin cuBLAS when one has already been registered\n"
     ]
    },
    {
     "name": "stdout",
     "output_type": "stream",
     "text": [
      "modules loaded\n"
     ]
    }
   ],
   "source": [
    "import numpy as np\n",
    "import pandas as pd\n",
    "import matplotlib.pyplot as plt\n",
    "from sklearn.preprocessing import MinMaxScaler\n",
    "\n",
    "from tensorflow.keras.layers import Dense\n",
    "from tensorflow.keras.models import Sequential\n",
    "from sklearn.model_selection import train_test_split\n",
    "\n",
    "import warnings\n",
    "warnings.filterwarnings(\"ignore\")\n",
    "\n",
    "print ('modules loaded')"
   ]
  },
  {
   "cell_type": "code",
   "execution_count": 2,
   "id": "4100b09b",
   "metadata": {
    "execution": {
     "iopub.execute_input": "2024-02-05T09:40:39.242232Z",
     "iopub.status.busy": "2024-02-05T09:40:39.241711Z",
     "iopub.status.idle": "2024-02-05T09:40:39.280010Z",
     "shell.execute_reply": "2024-02-05T09:40:39.279025Z"
    },
    "papermill": {
     "duration": 0.046332,
     "end_time": "2024-02-05T09:40:39.281864",
     "exception": false,
     "start_time": "2024-02-05T09:40:39.235532",
     "status": "completed"
    },
    "tags": []
   },
   "outputs": [
    {
     "name": "stdout",
     "output_type": "stream",
     "text": [
      "     customer name                                    customer e-mail  \\\n",
      "0    Martina Avila  cubilia.Curae.Phasellus@quisaccumsanconvallis.edu   \n",
      "1    Harlan Barnes                                eu.dolor@diam.co.uk   \n",
      "2  Naomi Rodriquez  vulputate.mauris.sagittis@ametconsectetueradip...   \n",
      "3  Jade Cunningham                            malesuada@dignissim.com   \n",
      "4     Cedric Leach     felis.ullamcorper.viverra@egetmollislectus.net   \n",
      "\n",
      "        country  gender        age  annual Salary  credit card debt  \\\n",
      "0      Bulgaria       0  41.851720    62812.09301      11609.380910   \n",
      "1        Belize       0  40.870623    66646.89292       9572.957136   \n",
      "2       Algeria       1  43.152897    53798.55112      11160.355060   \n",
      "3  Cook Islands       1  58.271369    79370.03798      14426.164850   \n",
      "4        Brazil       1  57.313749    59729.15130       5358.712177   \n",
      "\n",
      "     net worth  car purchase amount  \n",
      "0  238961.2505          35321.45877  \n",
      "1  530973.9078          45115.52566  \n",
      "2  638467.1773          42925.70921  \n",
      "3  548599.0524          67422.36313  \n",
      "4  560304.0671          55915.46248  \n"
     ]
    }
   ],
   "source": [
    "df = pd.read_csv('/kaggle/input/ann-car-sales-price-prediction/car_purchasing.csv', encoding='ISO-8859-1')\n",
    "\n",
    "# Check the first few rows of the dataset\n",
    "print(df.head())"
   ]
  },
  {
   "cell_type": "markdown",
   "id": "fb44d96e",
   "metadata": {
    "papermill": {
     "duration": 0.005235,
     "end_time": "2024-02-05T09:40:39.292423",
     "exception": false,
     "start_time": "2024-02-05T09:40:39.287188",
     "status": "completed"
    },
    "tags": []
   },
   "source": [
    "**Drop unneeded columns**"
   ]
  },
  {
   "cell_type": "code",
   "execution_count": 3,
   "id": "c2bbb2e8",
   "metadata": {
    "execution": {
     "iopub.execute_input": "2024-02-05T09:40:39.304460Z",
     "iopub.status.busy": "2024-02-05T09:40:39.304173Z",
     "iopub.status.idle": "2024-02-05T09:40:39.313842Z",
     "shell.execute_reply": "2024-02-05T09:40:39.312997Z"
    },
    "papermill": {
     "duration": 0.017825,
     "end_time": "2024-02-05T09:40:39.315740",
     "exception": false,
     "start_time": "2024-02-05T09:40:39.297915",
     "status": "completed"
    },
    "tags": []
   },
   "outputs": [],
   "source": [
    "df.drop(columns=['customer name', 'customer e-mail', 'country', 'gender'], inplace=True)"
   ]
  },
  {
   "cell_type": "markdown",
   "id": "dd0e6a5c",
   "metadata": {
    "papermill": {
     "duration": 0.005174,
     "end_time": "2024-02-05T09:40:39.326269",
     "exception": false,
     "start_time": "2024-02-05T09:40:39.321095",
     "status": "completed"
    },
    "tags": []
   },
   "source": [
    "**Define x and y**"
   ]
  },
  {
   "cell_type": "code",
   "execution_count": 4,
   "id": "ad903b68",
   "metadata": {
    "execution": {
     "iopub.execute_input": "2024-02-05T09:40:39.338081Z",
     "iopub.status.busy": "2024-02-05T09:40:39.337822Z",
     "iopub.status.idle": "2024-02-05T09:40:39.343225Z",
     "shell.execute_reply": "2024-02-05T09:40:39.342360Z"
    },
    "papermill": {
     "duration": 0.013574,
     "end_time": "2024-02-05T09:40:39.345251",
     "exception": false,
     "start_time": "2024-02-05T09:40:39.331677",
     "status": "completed"
    },
    "tags": []
   },
   "outputs": [],
   "source": [
    "x = df.drop('car purchase amount', axis=1)\n",
    "y = df['car purchase amount']"
   ]
  },
  {
   "cell_type": "markdown",
   "id": "947f8bf3",
   "metadata": {
    "papermill": {
     "duration": 0.005108,
     "end_time": "2024-02-05T09:40:39.356049",
     "exception": false,
     "start_time": "2024-02-05T09:40:39.350941",
     "status": "completed"
    },
    "tags": []
   },
   "source": [
    "**Data scaling **"
   ]
  },
  {
   "cell_type": "code",
   "execution_count": 5,
   "id": "3bb39f47",
   "metadata": {
    "execution": {
     "iopub.execute_input": "2024-02-05T09:40:39.367884Z",
     "iopub.status.busy": "2024-02-05T09:40:39.367627Z",
     "iopub.status.idle": "2024-02-05T09:40:39.375062Z",
     "shell.execute_reply": "2024-02-05T09:40:39.374339Z"
    },
    "papermill": {
     "duration": 0.015426,
     "end_time": "2024-02-05T09:40:39.376863",
     "exception": false,
     "start_time": "2024-02-05T09:40:39.361437",
     "status": "completed"
    },
    "tags": []
   },
   "outputs": [],
   "source": [
    "scaler = MinMaxScaler()\n",
    "x = scaler.fit_transform(x)\n",
    "y = scaler.fit_transform(y.values.reshape(-1, 1))"
   ]
  },
  {
   "cell_type": "markdown",
   "id": "b0469667",
   "metadata": {
    "papermill": {
     "duration": 0.00513,
     "end_time": "2024-02-05T09:40:39.387377",
     "exception": false,
     "start_time": "2024-02-05T09:40:39.382247",
     "status": "completed"
    },
    "tags": []
   },
   "source": [
    "**Data splliting**"
   ]
  },
  {
   "cell_type": "code",
   "execution_count": 6,
   "id": "614ebef8",
   "metadata": {
    "execution": {
     "iopub.execute_input": "2024-02-05T09:40:39.399063Z",
     "iopub.status.busy": "2024-02-05T09:40:39.398808Z",
     "iopub.status.idle": "2024-02-05T09:40:39.406077Z",
     "shell.execute_reply": "2024-02-05T09:40:39.405161Z"
    },
    "papermill": {
     "duration": 0.015332,
     "end_time": "2024-02-05T09:40:39.408039",
     "exception": false,
     "start_time": "2024-02-05T09:40:39.392707",
     "status": "completed"
    },
    "tags": []
   },
   "outputs": [
    {
     "name": "stdout",
     "output_type": "stream",
     "text": [
      "(400, 4)\n",
      "(400, 1)\n",
      "(100, 4)\n",
      "(100, 1)\n"
     ]
    }
   ],
   "source": [
    "x_train, x_test, y_train, y_test = train_test_split(x, y, test_size=0.2, random_state=0)\n",
    "\n",
    "print(x_train.shape)\n",
    "print(y_train.shape)\n",
    "print(x_test.shape)\n",
    "print(y_test.shape)"
   ]
  },
  {
   "cell_type": "markdown",
   "id": "012b1e06",
   "metadata": {
    "papermill": {
     "duration": 0.005151,
     "end_time": "2024-02-05T09:40:39.418588",
     "exception": false,
     "start_time": "2024-02-05T09:40:39.413437",
     "status": "completed"
    },
    "tags": []
   },
   "source": [
    "# Model Structure\n"
   ]
  },
  {
   "cell_type": "code",
   "execution_count": 7,
   "id": "a62761b7",
   "metadata": {
    "execution": {
     "iopub.execute_input": "2024-02-05T09:40:39.431302Z",
     "iopub.status.busy": "2024-02-05T09:40:39.431020Z",
     "iopub.status.idle": "2024-02-05T09:40:40.178981Z",
     "shell.execute_reply": "2024-02-05T09:40:40.178061Z"
    },
    "papermill": {
     "duration": 0.759896,
     "end_time": "2024-02-05T09:40:40.184724",
     "exception": false,
     "start_time": "2024-02-05T09:40:39.424828",
     "status": "completed"
    },
    "tags": []
   },
   "outputs": [
    {
     "name": "stdout",
     "output_type": "stream",
     "text": [
      "Model: \"sequential\"\n",
      "_________________________________________________________________\n",
      " Layer (type)                Output Shape              Param #   \n",
      "=================================================================\n",
      " dense (Dense)               (None, 10)                50        \n",
      "                                                                 \n",
      " dense_1 (Dense)             (None, 10)                110       \n",
      "                                                                 \n",
      " dense_2 (Dense)             (None, 1)                 11        \n",
      "                                                                 \n",
      "=================================================================\n",
      "Total params: 171 (684.00 Byte)\n",
      "Trainable params: 171 (684.00 Byte)\n",
      "Non-trainable params: 0 (0.00 Byte)\n",
      "_________________________________________________________________\n"
     ]
    }
   ],
   "source": [
    "model = Sequential()\n",
    "model.add(Dense(10, activation='relu', input_dim=4))\n",
    "model.add(Dense(10, activation='relu'))\n",
    "model.add(Dense(1, activation='linear'))\n",
    "\n",
    "model.compile(optimizer='adam', loss='mean_squared_error')\n",
    "model.summary()\n"
   ]
  },
  {
   "cell_type": "markdown",
   "id": "80788658",
   "metadata": {
    "papermill": {
     "duration": 0.006416,
     "end_time": "2024-02-05T09:40:40.197829",
     "exception": false,
     "start_time": "2024-02-05T09:40:40.191413",
     "status": "completed"
    },
    "tags": []
   },
   "source": [
    "**Model Training**"
   ]
  },
  {
   "cell_type": "code",
   "execution_count": 8,
   "id": "98086961",
   "metadata": {
    "collapsed": true,
    "execution": {
     "iopub.execute_input": "2024-02-05T09:40:40.224367Z",
     "iopub.status.busy": "2024-02-05T09:40:40.224054Z",
     "iopub.status.idle": "2024-02-05T09:40:47.470091Z",
     "shell.execute_reply": "2024-02-05T09:40:47.469330Z"
    },
    "jupyter": {
     "outputs_hidden": true
    },
    "papermill": {
     "duration": 7.25642,
     "end_time": "2024-02-05T09:40:47.472105",
     "exception": false,
     "start_time": "2024-02-05T09:40:40.215685",
     "status": "completed"
    },
    "tags": []
   },
   "outputs": [
    {
     "name": "stdout",
     "output_type": "stream",
     "text": [
      "Epoch 1/100\n"
     ]
    },
    {
     "name": "stderr",
     "output_type": "stream",
     "text": [
      "WARNING: All log messages before absl::InitializeLog() is called are written to STDERR\n",
      "I0000 00:00:1707126042.040928      69 device_compiler.h:186] Compiled cluster using XLA!  This line is logged at most once for the lifetime of the process.\n"
     ]
    },
    {
     "name": "stdout",
     "output_type": "stream",
     "text": [
      "10/10 [==============================] - 2s 21ms/step - loss: 0.3660 - val_loss: 0.3407\n",
      "Epoch 2/100\n",
      "10/10 [==============================] - 0s 5ms/step - loss: 0.2718 - val_loss: 0.2523\n",
      "Epoch 3/100\n",
      "10/10 [==============================] - 0s 5ms/step - loss: 0.1927 - val_loss: 0.1784\n",
      "Epoch 4/100\n",
      "10/10 [==============================] - 0s 5ms/step - loss: 0.1255 - val_loss: 0.1139\n",
      "Epoch 5/100\n",
      "10/10 [==============================] - 0s 5ms/step - loss: 0.0679 - val_loss: 0.0627\n",
      "Epoch 6/100\n",
      "10/10 [==============================] - 0s 5ms/step - loss: 0.0317 - val_loss: 0.0329\n",
      "Epoch 7/100\n",
      "10/10 [==============================] - 0s 5ms/step - loss: 0.0177 - val_loss: 0.0231\n",
      "Epoch 8/100\n",
      "10/10 [==============================] - 0s 5ms/step - loss: 0.0154 - val_loss: 0.0206\n",
      "Epoch 9/100\n",
      "10/10 [==============================] - 0s 5ms/step - loss: 0.0145 - val_loss: 0.0191\n",
      "Epoch 10/100\n",
      "10/10 [==============================] - 0s 5ms/step - loss: 0.0134 - val_loss: 0.0182\n",
      "Epoch 11/100\n",
      "10/10 [==============================] - 0s 5ms/step - loss: 0.0125 - val_loss: 0.0175\n",
      "Epoch 12/100\n",
      "10/10 [==============================] - 0s 5ms/step - loss: 0.0119 - val_loss: 0.0166\n",
      "Epoch 13/100\n",
      "10/10 [==============================] - 0s 5ms/step - loss: 0.0111 - val_loss: 0.0152\n",
      "Epoch 14/100\n",
      "10/10 [==============================] - 0s 5ms/step - loss: 0.0101 - val_loss: 0.0138\n",
      "Epoch 15/100\n",
      "10/10 [==============================] - 0s 5ms/step - loss: 0.0091 - val_loss: 0.0124\n",
      "Epoch 16/100\n",
      "10/10 [==============================] - 0s 5ms/step - loss: 0.0083 - val_loss: 0.0113\n",
      "Epoch 17/100\n",
      "10/10 [==============================] - 0s 5ms/step - loss: 0.0077 - val_loss: 0.0101\n",
      "Epoch 18/100\n",
      "10/10 [==============================] - 0s 5ms/step - loss: 0.0072 - val_loss: 0.0094\n",
      "Epoch 19/100\n",
      "10/10 [==============================] - 0s 5ms/step - loss: 0.0068 - val_loss: 0.0090\n",
      "Epoch 20/100\n",
      "10/10 [==============================] - 0s 5ms/step - loss: 0.0064 - val_loss: 0.0083\n",
      "Epoch 21/100\n",
      "10/10 [==============================] - 0s 5ms/step - loss: 0.0061 - val_loss: 0.0078\n",
      "Epoch 22/100\n",
      "10/10 [==============================] - 0s 5ms/step - loss: 0.0057 - val_loss: 0.0074\n",
      "Epoch 23/100\n",
      "10/10 [==============================] - 0s 5ms/step - loss: 0.0054 - val_loss: 0.0069\n",
      "Epoch 24/100\n",
      "10/10 [==============================] - 0s 5ms/step - loss: 0.0051 - val_loss: 0.0066\n",
      "Epoch 25/100\n",
      "10/10 [==============================] - 0s 5ms/step - loss: 0.0048 - val_loss: 0.0061\n",
      "Epoch 26/100\n",
      "10/10 [==============================] - 0s 5ms/step - loss: 0.0046 - val_loss: 0.0058\n",
      "Epoch 27/100\n",
      "10/10 [==============================] - 0s 5ms/step - loss: 0.0043 - val_loss: 0.0054\n",
      "Epoch 28/100\n",
      "10/10 [==============================] - 0s 5ms/step - loss: 0.0040 - val_loss: 0.0052\n",
      "Epoch 29/100\n",
      "10/10 [==============================] - 0s 5ms/step - loss: 0.0038 - val_loss: 0.0048\n",
      "Epoch 30/100\n",
      "10/10 [==============================] - 0s 5ms/step - loss: 0.0036 - val_loss: 0.0045\n",
      "Epoch 31/100\n",
      "10/10 [==============================] - 0s 5ms/step - loss: 0.0033 - val_loss: 0.0043\n",
      "Epoch 32/100\n",
      "10/10 [==============================] - 0s 5ms/step - loss: 0.0031 - val_loss: 0.0040\n",
      "Epoch 33/100\n",
      "10/10 [==============================] - 0s 5ms/step - loss: 0.0029 - val_loss: 0.0037\n",
      "Epoch 34/100\n",
      "10/10 [==============================] - 0s 5ms/step - loss: 0.0027 - val_loss: 0.0035\n",
      "Epoch 35/100\n",
      "10/10 [==============================] - 0s 5ms/step - loss: 0.0026 - val_loss: 0.0033\n",
      "Epoch 36/100\n",
      "10/10 [==============================] - 0s 5ms/step - loss: 0.0024 - val_loss: 0.0031\n",
      "Epoch 37/100\n",
      "10/10 [==============================] - 0s 5ms/step - loss: 0.0022 - val_loss: 0.0029\n",
      "Epoch 38/100\n",
      "10/10 [==============================] - 0s 5ms/step - loss: 0.0020 - val_loss: 0.0027\n",
      "Epoch 39/100\n",
      "10/10 [==============================] - 0s 5ms/step - loss: 0.0019 - val_loss: 0.0025\n",
      "Epoch 40/100\n",
      "10/10 [==============================] - 0s 5ms/step - loss: 0.0018 - val_loss: 0.0023\n",
      "Epoch 41/100\n",
      "10/10 [==============================] - 0s 5ms/step - loss: 0.0016 - val_loss: 0.0022\n",
      "Epoch 42/100\n",
      "10/10 [==============================] - 0s 5ms/step - loss: 0.0015 - val_loss: 0.0020\n",
      "Epoch 43/100\n",
      "10/10 [==============================] - 0s 5ms/step - loss: 0.0014 - val_loss: 0.0019\n",
      "Epoch 44/100\n",
      "10/10 [==============================] - 0s 5ms/step - loss: 0.0013 - val_loss: 0.0018\n",
      "Epoch 45/100\n",
      "10/10 [==============================] - 0s 5ms/step - loss: 0.0012 - val_loss: 0.0017\n",
      "Epoch 46/100\n",
      "10/10 [==============================] - 0s 5ms/step - loss: 0.0011 - val_loss: 0.0015\n",
      "Epoch 47/100\n",
      "10/10 [==============================] - 0s 5ms/step - loss: 9.5253e-04 - val_loss: 0.0015\n",
      "Epoch 48/100\n",
      "10/10 [==============================] - 0s 5ms/step - loss: 8.7598e-04 - val_loss: 0.0013\n",
      "Epoch 49/100\n",
      "10/10 [==============================] - 0s 5ms/step - loss: 8.0299e-04 - val_loss: 0.0012\n",
      "Epoch 50/100\n",
      "10/10 [==============================] - 0s 5ms/step - loss: 7.3152e-04 - val_loss: 0.0011\n",
      "Epoch 51/100\n",
      "10/10 [==============================] - 0s 5ms/step - loss: 6.6907e-04 - val_loss: 0.0011\n",
      "Epoch 52/100\n",
      "10/10 [==============================] - 0s 5ms/step - loss: 6.2732e-04 - val_loss: 9.9160e-04\n",
      "Epoch 53/100\n",
      "10/10 [==============================] - 0s 5ms/step - loss: 5.5768e-04 - val_loss: 9.3988e-04\n",
      "Epoch 54/100\n",
      "10/10 [==============================] - 0s 5ms/step - loss: 5.0366e-04 - val_loss: 8.6337e-04\n",
      "Epoch 55/100\n",
      "10/10 [==============================] - 0s 5ms/step - loss: 4.5710e-04 - val_loss: 8.2076e-04\n",
      "Epoch 56/100\n",
      "10/10 [==============================] - 0s 5ms/step - loss: 4.2129e-04 - val_loss: 7.6702e-04\n",
      "Epoch 57/100\n",
      "10/10 [==============================] - 0s 5ms/step - loss: 3.8137e-04 - val_loss: 7.1692e-04\n",
      "Epoch 58/100\n",
      "10/10 [==============================] - 0s 5ms/step - loss: 3.3965e-04 - val_loss: 6.7854e-04\n",
      "Epoch 59/100\n",
      "10/10 [==============================] - 0s 5ms/step - loss: 3.0632e-04 - val_loss: 6.3621e-04\n",
      "Epoch 60/100\n",
      "10/10 [==============================] - 0s 5ms/step - loss: 2.7970e-04 - val_loss: 6.0919e-04\n",
      "Epoch 61/100\n",
      "10/10 [==============================] - 0s 5ms/step - loss: 2.5574e-04 - val_loss: 5.7704e-04\n",
      "Epoch 62/100\n",
      "10/10 [==============================] - 0s 5ms/step - loss: 2.3348e-04 - val_loss: 5.5344e-04\n",
      "Epoch 63/100\n",
      "10/10 [==============================] - 0s 5ms/step - loss: 2.1237e-04 - val_loss: 5.2397e-04\n",
      "Epoch 64/100\n",
      "10/10 [==============================] - 0s 5ms/step - loss: 1.9614e-04 - val_loss: 4.9805e-04\n",
      "Epoch 65/100\n",
      "10/10 [==============================] - 0s 5ms/step - loss: 1.8079e-04 - val_loss: 4.8338e-04\n",
      "Epoch 66/100\n",
      "10/10 [==============================] - 0s 5ms/step - loss: 1.6916e-04 - val_loss: 4.5656e-04\n",
      "Epoch 67/100\n",
      "10/10 [==============================] - 0s 5ms/step - loss: 1.5372e-04 - val_loss: 4.4945e-04\n",
      "Epoch 68/100\n",
      "10/10 [==============================] - 0s 5ms/step - loss: 1.4539e-04 - val_loss: 4.2203e-04\n",
      "Epoch 69/100\n",
      "10/10 [==============================] - 0s 5ms/step - loss: 1.3159e-04 - val_loss: 4.1656e-04\n",
      "Epoch 70/100\n",
      "10/10 [==============================] - 0s 5ms/step - loss: 1.2411e-04 - val_loss: 3.9604e-04\n",
      "Epoch 71/100\n",
      "10/10 [==============================] - 0s 5ms/step - loss: 1.1559e-04 - val_loss: 3.8677e-04\n",
      "Epoch 72/100\n",
      "10/10 [==============================] - 0s 5ms/step - loss: 1.0859e-04 - val_loss: 3.7230e-04\n",
      "Epoch 73/100\n",
      "10/10 [==============================] - 0s 5ms/step - loss: 1.0227e-04 - val_loss: 3.6715e-04\n",
      "Epoch 74/100\n",
      "10/10 [==============================] - 0s 5ms/step - loss: 9.6007e-05 - val_loss: 3.5246e-04\n",
      "Epoch 75/100\n",
      "10/10 [==============================] - 0s 5ms/step - loss: 9.1860e-05 - val_loss: 3.4552e-04\n",
      "Epoch 76/100\n",
      "10/10 [==============================] - 0s 5ms/step - loss: 8.6354e-05 - val_loss: 3.3503e-04\n",
      "Epoch 77/100\n",
      "10/10 [==============================] - 0s 5ms/step - loss: 8.2678e-05 - val_loss: 3.2574e-04\n",
      "Epoch 78/100\n",
      "10/10 [==============================] - 0s 5ms/step - loss: 7.8277e-05 - val_loss: 3.1623e-04\n",
      "Epoch 79/100\n",
      "10/10 [==============================] - 0s 5ms/step - loss: 7.4418e-05 - val_loss: 3.1129e-04\n",
      "Epoch 80/100\n",
      "10/10 [==============================] - 0s 5ms/step - loss: 7.2228e-05 - val_loss: 3.0007e-04\n",
      "Epoch 81/100\n",
      "10/10 [==============================] - 0s 5ms/step - loss: 6.8857e-05 - val_loss: 2.9728e-04\n",
      "Epoch 82/100\n",
      "10/10 [==============================] - 0s 5ms/step - loss: 6.5596e-05 - val_loss: 2.8625e-04\n",
      "Epoch 83/100\n",
      "10/10 [==============================] - 0s 5ms/step - loss: 6.2012e-05 - val_loss: 2.8128e-04\n",
      "Epoch 84/100\n",
      "10/10 [==============================] - 0s 5ms/step - loss: 6.0795e-05 - val_loss: 2.7136e-04\n",
      "Epoch 85/100\n",
      "10/10 [==============================] - 0s 5ms/step - loss: 5.8453e-05 - val_loss: 2.7060e-04\n",
      "Epoch 86/100\n",
      "10/10 [==============================] - 0s 5ms/step - loss: 5.5773e-05 - val_loss: 2.5999e-04\n",
      "Epoch 87/100\n",
      "10/10 [==============================] - 0s 5ms/step - loss: 5.4044e-05 - val_loss: 2.5337e-04\n",
      "Epoch 88/100\n",
      "10/10 [==============================] - 0s 5ms/step - loss: 5.1650e-05 - val_loss: 2.4877e-04\n",
      "Epoch 89/100\n",
      "10/10 [==============================] - 0s 5ms/step - loss: 4.9114e-05 - val_loss: 2.4358e-04\n",
      "Epoch 90/100\n",
      "10/10 [==============================] - 0s 5ms/step - loss: 4.7856e-05 - val_loss: 2.3938e-04\n",
      "Epoch 91/100\n",
      "10/10 [==============================] - 0s 5ms/step - loss: 4.6013e-05 - val_loss: 2.3238e-04\n",
      "Epoch 92/100\n",
      "10/10 [==============================] - 0s 5ms/step - loss: 4.4050e-05 - val_loss: 2.2785e-04\n",
      "Epoch 93/100\n",
      "10/10 [==============================] - 0s 5ms/step - loss: 4.2947e-05 - val_loss: 2.2325e-04\n",
      "Epoch 94/100\n",
      "10/10 [==============================] - 0s 5ms/step - loss: 4.1319e-05 - val_loss: 2.1905e-04\n",
      "Epoch 95/100\n",
      "10/10 [==============================] - 0s 5ms/step - loss: 4.0127e-05 - val_loss: 2.1398e-04\n",
      "Epoch 96/100\n",
      "10/10 [==============================] - 0s 5ms/step - loss: 3.9226e-05 - val_loss: 2.1314e-04\n",
      "Epoch 97/100\n",
      "10/10 [==============================] - 0s 5ms/step - loss: 3.7972e-05 - val_loss: 2.0758e-04\n",
      "Epoch 98/100\n",
      "10/10 [==============================] - 0s 5ms/step - loss: 3.6961e-05 - val_loss: 2.0572e-04\n",
      "Epoch 99/100\n",
      "10/10 [==============================] - 0s 5ms/step - loss: 3.6776e-05 - val_loss: 2.0456e-04\n",
      "Epoch 100/100\n",
      "10/10 [==============================] - 0s 5ms/step - loss: 3.5564e-05 - val_loss: 1.9854e-04\n"
     ]
    }
   ],
   "source": [
    "history = model.fit(x_train, y_train, epochs=100, validation_split=0.2)"
   ]
  },
  {
   "cell_type": "code",
   "execution_count": 9,
   "id": "910f259e",
   "metadata": {
    "execution": {
     "iopub.execute_input": "2024-02-05T09:40:47.532360Z",
     "iopub.status.busy": "2024-02-05T09:40:47.532048Z",
     "iopub.status.idle": "2024-02-05T09:40:47.891816Z",
     "shell.execute_reply": "2024-02-05T09:40:47.890859Z"
    },
    "papermill": {
     "duration": 0.39223,
     "end_time": "2024-02-05T09:40:47.893919",
     "exception": false,
     "start_time": "2024-02-05T09:40:47.501689",
     "status": "completed"
    },
    "tags": []
   },
   "outputs": [
    {
     "data": {
      "image/png": "[encoded data removed]",
      "text/plain": [
       "<Figure size 2000x800 with 1 Axes>"
      ]
     },
     "metadata": {},
     "output_type": "display_data"
    }
   ],
   "source": [
    "# Define needed variables\n",
    "tr_loss = history.history['loss']\n",
    "val_loss = history.history['val_loss']\n",
    "index_loss = np.argmin(val_loss)\n",
    "val_lowest = val_loss[index_loss]\n",
    "\n",
    "Epochs = [i+1 for i in range(len(tr_loss))]\n",
    "loss_label = f'best epoch= {str(index_loss + 1)}'\n",
    "\n",
    "# Plot training history\n",
    "plt.figure(figsize= (20, 8))\n",
    "plt.style.use('fivethirtyeight')\n",
    "\n",
    "plt.plot(Epochs, tr_loss, 'r', label= 'Training loss')\n",
    "plt.plot(Epochs, val_loss, 'g', label= 'Validation loss')\n",
    "plt.scatter(index_loss + 1, val_lowest, s= 150, c= 'blue', label= loss_label)\n",
    "plt.title('Training and Validation Loss')\n",
    "plt.xlabel('Epochs')\n",
    "plt.ylabel('Loss')\n",
    "plt.legend()\n",
    "\n",
    "plt.tight_layout\n",
    "plt.show()"
   ]
  },
  {
   "cell_type": "markdown",
   "id": "5bc69058",
   "metadata": {
    "papermill": {
     "duration": 0.029624,
     "end_time": "2024-02-05T09:40:47.953725",
     "exception": false,
     "start_time": "2024-02-05T09:40:47.924101",
     "status": "completed"
    },
    "tags": []
   },
   "source": [
    "**Prediction**"
   ]
  },
  {
   "cell_type": "code",
   "execution_count": 10,
   "id": "f50617fc",
   "metadata": {
    "execution": {
     "iopub.execute_input": "2024-02-05T09:40:48.014623Z",
     "iopub.status.busy": "2024-02-05T09:40:48.014341Z",
     "iopub.status.idle": "2024-02-05T09:40:48.174373Z",
     "shell.execute_reply": "2024-02-05T09:40:48.173617Z"
    },
    "papermill": {
     "duration": 0.192517,
     "end_time": "2024-02-05T09:40:48.176342",
     "exception": false,
     "start_time": "2024-02-05T09:40:47.983825",
     "status": "completed"
    },
    "tags": []
   },
   "outputs": [
    {
     "name": "stdout",
     "output_type": "stream",
     "text": [
      "4/4 [==============================] - 0s 6ms/step\n"
     ]
    }
   ],
   "source": [
    "y_pred = model.predict(x_test)"
   ]
  },
  {
   "cell_type": "code",
   "execution_count": 11,
   "id": "f7832136",
   "metadata": {
    "execution": {
     "iopub.execute_input": "2024-02-05T09:40:48.238193Z",
     "iopub.status.busy": "2024-02-05T09:40:48.237605Z",
     "iopub.status.idle": "2024-02-05T09:40:48.242522Z",
     "shell.execute_reply": "2024-02-05T09:40:48.241718Z"
    },
    "papermill": {
     "duration": 0.038011,
     "end_time": "2024-02-05T09:40:48.244725",
     "exception": false,
     "start_time": "2024-02-05T09:40:48.206714",
     "status": "completed"
    },
    "tags": []
   },
   "outputs": [
    {
     "name": "stdout",
     "output_type": "stream",
     "text": [
      "R2 Score= 0.9964124382598861\n"
     ]
    }
   ],
   "source": [
    "from sklearn.metrics import r2_score\n",
    "\n",
    "R2 = r2_score(y_test, y_pred)\n",
    "print(\"R2 Score=\",R2 )"
   ]
  },
  {
   "cell_type": "code",
   "execution_count": null,
   "id": "58b456b6",
   "metadata": {
    "papermill": {
     "duration": 0.029834,
     "end_time": "2024-02-05T09:40:48.304575",
     "exception": false,
     "start_time": "2024-02-05T09:40:48.274741",
     "status": "completed"
    },
    "tags": []
   },
   "outputs": [],
   "source": []
  }
 ],
 "metadata": {
  "kaggle": {
   "accelerator": "gpu",
   "dataSources": [
    {
     "datasetId": 2515235,
     "sourceId": 4268549,
     "sourceType": "datasetVersion"
    }
   ],
   "dockerImageVersionId": 30648,
   "isGpuEnabled": true,
   "isInternetEnabled": true,
   "language": "python",
   "sourceType": "notebook"
  },
  "kernelspec": {
   "display_name": "Python 3",
   "language": "python",
   "name": "python3"
  },
  "language_info": {
   "codemirror_mode": {
    "name": "ipython",
    "version": 3
   },
   "file_extension": ".py",
   "mimetype": "text/x-python",
   "name": "python",
   "nbconvert_exporter": "python",
   "pygments_lexer": "ipython3",
   "version": "3.10.13"
  },
  "papermill": {
   "default_parameters": {},
   "duration": 28.146365,
   "end_time": "2024-02-05T09:40:51.049729",
   "environment_variables": {},
   "exception": null,
   "input_path": "__notebook__.ipynb",
   "output_path": "__notebook__.ipynb",
   "parameters": {},
   "start_time": "2024-02-05T09:40:22.903364",
   "version": "2.5.0"
  }
 },
 "nbformat": 4,
 "nbformat_minor": 5
}
